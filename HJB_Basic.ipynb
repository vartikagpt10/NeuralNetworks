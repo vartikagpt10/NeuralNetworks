{
  "nbformat": 4,
  "nbformat_minor": 0,
  "metadata": {
    "colab": {
      "name": "HJB Basic",
      "provenance": []
    },
    "kernelspec": {
      "name": "python3",
      "display_name": "Python 3"
    }
  },
  "cells": [
    {
      "cell_type": "markdown",
      "metadata": {
        "id": "qB2dQPfh1CiY",
        "colab_type": "text"
      },
      "source": [
        "#HJB Equation \n",
        "###for Linear Quadratics\n",
        "\n",
        "This is a standard code written for practice that may help to implement the paper in future.\n",
        "\n",
        "-Vartika"
      ]
    },
    {
      "cell_type": "code",
      "metadata": {
        "id": "maywySQlLo3F",
        "colab_type": "code",
        "colab": {}
      },
      "source": [
        "import numpy as np\n",
        "import tensorflow as tf\n",
        "\n",
        "class Equation(object):\n",
        "    \"\"\"Base class for defining PDE related function.\"\"\"\n",
        "\n",
        "    def __init__(self, eqn_config):\n",
        "        self.dim = eqn_config.dim\n",
        "        self.total_time = eqn_config.total_time\n",
        "        self.num_time_interval = eqn_config.num_time_interval\n",
        "        self.delta_t = self.total_time / self.num_time_interval\n",
        "        self.sqrt_delta_t = np.sqrt(self.delta_t)\n",
        "        self.y_init = None\n",
        "\n",
        "class HJBLQ(Equation):\n",
        " \n",
        "    def __init__(self, eqn_config):\n",
        "        super(HJBLQ, self).__init__(eqn_config)\n",
        "        self.x_init = np.zeros(self.dim)\n",
        "        self.sigma = np.sqrt(2.0)\n",
        "        self.lambd = 1.0\n",
        "\n",
        "    def sample(self, num_sample):\n",
        "        dw_sample = normal.rvs(size=[num_sample,\n",
        "                                     self.dim,\n",
        "                                     self.num_time_interval]) * self.sqrt_delta_t\n",
        "        x_sample = np.zeros([num_sample, self.dim, self.num_time_interval + 1])\n",
        "        x_sample[:, :, 0] = np.ones([num_sample, self.dim]) * self.x_init\n",
        "        for i in range(self.num_time_interval):\n",
        "            x_sample[:, :, i + 1] = x_sample[:, :, i] + self.sigma * dw_sample[:, :, i]\n",
        "        return dw_sample, x_sample\n",
        "\n",
        "    \"\"\"def f_tf(self, t, x, y, z):\n",
        "        return -self.lambd * tf.reduce_sum(tf.square(z), 1, keepdims=True)\n",
        "\n",
        "    def g_tf(self, t, x):\n",
        "        return tf.math.log((1 + tf.reduce_sum(tf.square(x), 1, keepdims=True)) / 2)\"\"\""
      ],
      "execution_count": 0,
      "outputs": []
    }
  ]
}